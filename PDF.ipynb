{
  "nbformat": 4,
  "nbformat_minor": 0,
  "metadata": {
    "colab": {
      "provenance": [],
      "authorship_tag": "ABX9TyOMCam/l3Ozx0X3V8d0Eaqb",
      "include_colab_link": true
    },
    "kernelspec": {
      "name": "python3",
      "display_name": "Python 3"
    },
    "language_info": {
      "name": "python"
    }
  },
  "cells": [
    {
      "cell_type": "markdown",
      "metadata": {
        "id": "view-in-github",
        "colab_type": "text"
      },
      "source": [
        "<a href=\"https://colab.research.google.com/github/AndreaKvc/PDF-manipulation/blob/main/PDF.ipynb\" target=\"_parent\"><img src=\"https://colab.research.google.com/assets/colab-badge.svg\" alt=\"Open In Colab\"/></a>"
      ]
    },
    {
      "cell_type": "code",
      "execution_count": null,
      "metadata": {
        "id": "cOPG1W2eMAwK"
      },
      "outputs": [],
      "source": [
        "#installing essential libraries\n",
        "!pip install PyPDF2\n"
      ]
    },
    {
      "cell_type": "code",
      "source": [
        "#Merging multiple PDF files\n",
        "\n",
        "import PyPDF2\n",
        "\n",
        "def merge_pdfs(pdf_list, output_path):\n",
        " pdf_writer = PyPDF2.PdfWriter()\n",
        " for pdf in pdf_list:\n",
        "   pdf_reader = PyPDF2.PdfReader(pdf)\n",
        "   for page_num in range(len(pdf_reader.pages)):\n",
        "    pdf_writer.add_page(pdf_reader.pages[page_num])\n",
        "\n",
        "   with open(output_path, 'wb') as out:\n",
        "    pdf_writer.write(out)\n",
        "    print(f\"Merged PDF saved as{output_path}\")\n",
        "\n",
        "#Let's use the above function\n",
        "merge_pdfs(['Page+1.pdf','Page+2.pdf','Page+3.pdf'],'merged.pdf')\n",
        "\n",
        "#Output file will be merged.pdf"
      ],
      "metadata": {
        "id": "R8AAEhWGQFq0"
      },
      "execution_count": null,
      "outputs": []
    },
    {
      "cell_type": "code",
      "source": [
        "#Splitting PDF file to multiple PDF files/Pages\n",
        "import PyPDF2\n",
        "\n",
        "def split_pdf(pdf_path, output_dir):\n",
        "  pdf_reader = PyPDF2.PdfReader(pdf_path)\n",
        "  for page_num in range(len(pdf_reader.pages)):\n",
        "    pdf_writer = PyPDF2.PdfWriter()\n",
        "    pdf_writer.add_page(pdf_reader.pages[page_num])\n",
        "    output_path = f\"{output_dir}/page{page_num + 1}.pdf\"\n",
        "\n",
        "    with open(output_path, 'wb') as out:\n",
        "      pdf_writer.write(out)\n",
        "    print(f\"Saved {output_path}\")\n",
        "#Lets use above function\n",
        "split_pdf('merged.pdf', 'pdf_files')"
      ],
      "metadata": {
        "id": "HWzDaK6cTHH9"
      },
      "execution_count": null,
      "outputs": []
    },
    {
      "cell_type": "code",
      "source": [
        "#installing essential libraries\n",
        "\n",
        "!pip install pdfplumber"
      ],
      "metadata": {
        "id": "7P9cN2aMShbc"
      },
      "execution_count": null,
      "outputs": []
    },
    {
      "cell_type": "code",
      "source": [
        "#Extracting text from Pdf file\n",
        "\n",
        "import pdfplumber\n",
        "\n",
        "def extract_text(pdf_path, output_text_path):\n",
        " with pdfplumber.open(pdf_path) as pdf:\n",
        "    full_text = ''\n",
        "    for page in pdf.pages:\n",
        "      full_text += page.extract_text() + '\\n'\n",
        "\n",
        "    with open(output_text_path, 'w') as f:\n",
        "      f.write(full_text)\n",
        "    print(f\"Extracted text is isaved as {output_text_path}\")\n",
        "\n",
        "#Lets use the above function\n",
        "extract_text('merged.pdf', 'output.txt')"
      ],
      "metadata": {
        "id": "820LtkJ1z2Lb"
      },
      "execution_count": null,
      "outputs": []
    },
    {
      "cell_type": "code",
      "source": [
        "#Extract images from the PDF file\n",
        "!pip install pymupdf"
      ],
      "metadata": {
        "id": "9vcQrBdUBRYt"
      },
      "execution_count": null,
      "outputs": []
    },
    {
      "cell_type": "code",
      "source": [
        "#Extract images from PDF file.\n",
        "\n",
        "import fitz # PyMuPDF\n",
        "\n",
        "def extract_images(pdf_path, output_dir):\n",
        "  pdf_document = fitz.open(pdf_path)\n",
        "  for page_index in range(len(pdf_document)):\n",
        "    page = pdf_document.load_page(page_index)\n",
        "    image_list = page.get_images(full=True)\n",
        "\n",
        "    for img_index, img in enumerate(image_list):\n",
        "      xref = img[0]\n",
        "      base_image = pdf_document.extract_image(xref)\n",
        "      image_bytes = base_image[\"image\"]\n",
        "      image_ext = base_image[\"ext\"]\n",
        "      image_filename = f\"{output_dir}/image_{page_index + 1}_{img_index + 1}.{image_ext}\"\n",
        "\n",
        "      with open(image_filename, 'wb') as image_file:\n",
        "        image_file.write(image_bytes)\n",
        "\n",
        "      print(f\"Saved {image_filename}\")\n",
        "\n",
        "    #Lets use the above function\n",
        "    extract_images('merged.pdf', 'folder')"
      ],
      "metadata": {
        "id": "CmWTF0JMbjEn"
      },
      "execution_count": null,
      "outputs": []
    },
    {
      "cell_type": "code",
      "source": [
        "#install lib pypdf2\n",
        "!pip install pypdf2"
      ],
      "metadata": {
        "id": "KogeCgmdlJCl"
      },
      "execution_count": null,
      "outputs": []
    },
    {
      "cell_type": "code",
      "source": [
        "#Creating password to protect pdf (Encrypted PDF file).\n",
        "def encrypt_pdf(input_pdf, output_pdf, password):\n",
        "  pdf_reader = PyPDF2.PdfReader(input_pdf)\n",
        "  pdf_writer = PyPDF2.PdfWriter()\n",
        "\n",
        "  for page_num in range(len(pdf_reader.pages)):\n",
        "    pdf_writer.add_page(pdf_reader.pages[page_num])\n",
        "\n",
        "  pdf_writer.encrypt(password)\n",
        "\n",
        "  with open(output_pdf, 'wb') as out:\n",
        "    pdf_writer.write(out)\n",
        "\n",
        "  print(f\"Encrypted PDF file is saved as {output_pdf}\")\n",
        "\n",
        "  #Lets use above function\n",
        "  encrypt_pdf('merged.pdf', 'encrypted.pdf', 'pass123')"
      ],
      "metadata": {
        "id": "WuEuRv_1Ijqh"
      },
      "execution_count": null,
      "outputs": []
    },
    {
      "cell_type": "code",
      "source": [
        "#Remove Password from the password's protected PDF's (Decryption)\n",
        "\n",
        "def decrypt_pdf(input_pdf, output_pdf, password):\n",
        "  pdf_reader = PyPDF2.PdfReader(input_pdf)\n",
        "  pdf_reader.decrypt(password)\n",
        "  pdf_writer = PyPDF2.PdfWriter()\n",
        "\n",
        "  for page_num in range(len(pdf_reader.pages)):\n",
        "    pdf_writer.add_page(pdf_reader.pages[page_num])\n",
        "\n",
        "  with open(output_pdf, 'wb') as out:\n",
        "    print(f\"Decrypted PDF file is saved as {output_pdf}\")\n",
        "#Let use the above function\n",
        "decrypt_pdf('encrypted.pdf', 'decrypted.pdf', 'pass123')"
      ],
      "metadata": {
        "id": "Th7qGvj3bMTV"
      },
      "execution_count": null,
      "outputs": []
    },
    {
      "cell_type": "code",
      "source": [
        "!pip install pypdf2"
      ],
      "metadata": {
        "id": "HI3JGKHoqgk6"
      },
      "execution_count": null,
      "outputs": []
    },
    {
      "cell_type": "markdown",
      "source": [],
      "metadata": {
        "id": "XCMa2-cwr-rg"
      }
    },
    {
      "cell_type": "code",
      "source": [
        "#Re-arranging pages in pdf file\n",
        "\n",
        "def rearrange_pages(input_pdf, output_pdf, page_order):\n",
        "  pdf_reader = PyPDF2.PdfReader(input_pdf)\n",
        "  pdf_writer = PyPDF2.PdfWriter()\n",
        "\n",
        "  for page_num in page_order:\n",
        "    page_writer.add_page(pdf_reader.pages[page_num])\n",
        "\n",
        "    with open(output_pdf, 'wb') as out:\n",
        "      pdf_writer.write(out)\n",
        "\n",
        "    print(f\"Rearranged PDF is saved {output_pdf}\")\n",
        "\n",
        "#Lets use the above function\n",
        "#rearrange_pages('merged.pdf', 'rearranged.pdf' [2,1,0])\n",
        "# [2,1,0] means files pages in reverse  order\n",
        "\n",
        "rearrange_pages('merged.pdf', 'rearranged.pdf', [2, 1, 0])\n",
        "#Lets remove the page number 1 from  the file as well."
      ],
      "metadata": {
        "id": "-4NkpU8Lr_yn"
      },
      "execution_count": null,
      "outputs": []
    },
    {
      "cell_type": "code",
      "source": [
        "!pip install PyPDf2\n",
        "#Read metadate of the PDF file\n",
        "\n",
        "def read_metadata(pdf_file):\n",
        "  pdf_reader = PyPDF2.PdfReader(pdf_file)\n",
        "  metadata = pdf_reader.metadata\n",
        "\n",
        "  print(\"Metadata of the PDF file is:\")\n",
        "  for key, value in metadata.items():\n",
        "    print(f\"{key} : {value}\")\n",
        "\n",
        "#Lets use the above function\n",
        "read_metadata('merged.pdf')"
      ],
      "metadata": {
        "id": "Id4UhOwc8FU8"
      },
      "execution_count": null,
      "outputs": []
    },
    {
      "cell_type": "code",
      "source": [
        "#Optimize the size of the Pdf file(Compressing PDF file)\n",
        "# Add Metadata to the PDF files (e.g. Title, Author, etc.)\n",
        "import PyPDF2\n",
        "\n",
        "def add_metadata(input_pdf, output_pdf, title, author):\n",
        "  pdf_reader = PyPDF2.PdfReader(input_pdf)\n",
        "  pdf_writer = PyPDF2.PdfWriter()\n",
        "\n",
        "  for page_num in range(len(pdf_reader.pages)):\n",
        "   pdf_writer.add_page(pdf_reader.pages[page_num])\n",
        "# Set the metadata directly using add_metadata\n",
        "  metadata = {\n",
        "    '/Title': title,\n",
        "    '/Author': author,\n",
        "    '/Producer':''\n",
        " }\n",
        "  pdf_writer.add_metadata(metadata)\n",
        "\n",
        " with open(output_pdf,'wb') as out:\n",
        "  pdf_writer.write(out)\n",
        "  print(f\"PDF with added metadata saved as {output_pdf}\")\n",
        "\n",
        "# Usageadd_metadata('Portrait.pdf', 'metadata_added.pdf', 'Sample File for Python Coding','Dr.Raj\n",
        "# Reading PDF Metadata\n",
        "import PyPDF2\n",
        "\n",
        "def read_metadata(pdf_file):\n",
        "  pdf_reader = PyPDF2.PdfReader(pdf_file)\n",
        "  metadata = pdf_reader.metadata\n",
        "\n",
        " print(\"Metadata of the PDF:\")\n",
        " for key, value in metadata.items():\n",
        "   print(f\" {key}: {value}\")\n",
        "\n",
        "# Usage\n",
        "read_metadata('metadata_added.pdf')"
      ],
      "metadata": {
        "id": "xpPoSAGbHYXI"
      },
      "execution_count": null,
      "outputs": []
    },
    {
      "cell_type": "code",
      "source": [
        "# Rotating Pages - Potrait to Landscape\n",
        "import PyPDF2\n",
        "def rotate_pages(input_pdf, output_pdf, rotation):\n",
        " pdf_reader = PyPDF2.PdfReader(input_pdf)\n",
        " pdf_writer = PyPDF2.PdfWriter()\n",
        "\n",
        " for page_num in range(len(pdf_reader.pages)):\n",
        "  page = pdf_reader.pages[page_num]\n",
        "  page.rotate(rotation)\n",
        "  pdf_writer.add_page(page)\n",
        "\n",
        "  with open(output_pdf,'wb') as out:\n",
        "   pdf_writer.write(out)\n",
        "  print(f\"New PDF saved as {output_pdf}\")\n",
        "\n",
        "# Usage - Landscape to Portait (use angle either as -90 or 270)\n",
        "rotate_pages('Landscape.pdf','Portrait.pdf', -90)"
      ],
      "metadata": {
        "id": "1k7ZSiGuQ-lt"
      },
      "execution_count": null,
      "outputs": []
    }
  ]
}